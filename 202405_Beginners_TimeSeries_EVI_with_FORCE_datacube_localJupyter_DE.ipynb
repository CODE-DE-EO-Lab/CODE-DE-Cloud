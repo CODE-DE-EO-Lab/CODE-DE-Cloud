{
 "cells": [
  {
   "cell_type": "markdown",
   "id": "59773653-2435-4104-bb1f-edda47aac2dd",
   "metadata": {},
   "source": [
    "# CODE-DE/EO-Lab tutorial\n",
    "\n",
    "<div style=\"text-align: right\"><i> Beginner </i></div>\n",
    "\n",
    "***\n",
    "<center><h1> Prozessierung einer Vegetations-Zeitreihe mit FORCE Daten </h1></center>\n",
    "\n",
    "***\n",
    "**General Note 1**: Ausführung der Zellen durch pressen des <button class=\"btn btn-default btn-xs\"><i class=\"icon-play fa fa-play\"></i></button> button vom top MENU (oder `Shift` + `Enter`).<br>\n",
    "<br>\n",
    "**General Note 2**: Falls der Kern nich mehr arbeitet, im the top MENU, klicke <button class=\"btn btn-default btn-xs\"><i class=\"fa fa-repeat icon-repeat\"></i></button> button. Dann, im top MENU, clicke  \"Run\" aund wähle \"Run All Above Selected Cell\".<br>\n",
    "\n",
    "**General Note 3**: Schauen Sie sich im [**FORUM**](https://forum.code-de.org/de/) um oder Kontaktieren Sie den Support ! <br>\n",
    "\n",
    "***\n",
    "Voraussetzung zur Nutzung dieses Notebooks ist eine VM auf CODE-DE oder EO-Lab.  \n",
    "***"
   ]
  },
  {
   "cell_type": "markdown",
   "id": "5994d69e-7a12-4c32-a0af-4766162da481",
   "metadata": {},
   "source": [
    "In diesem Tutorial möchten wir den FORCE Datacube verwenden, ohne die FORCE-Umgebung selbst zu nutzen.\n",
    "Der FORCE-Datenwürfel wird hier ausführlich beschrieben:\n",
    "https://force-eo.readthedocs.io/en/latest/howto/datacube.html\n",
    "In der Filestruktur liegen die mit FORCE atmospärenkorrigten als BOA (Bottom of Atmosphere) Prodult bereits vor - ebenso die Wolkenmasken.\n",
    "\n",
    "Die Daten mit dem Datenwürfel werden hier näher beschrieben:\n",
    "https://force-eo.readthedocs.io/en/latest/components/lower-level/level2/format.html"
   ]
  },
  {
   "cell_type": "markdown",
   "id": "8e64b20d-1122-4317-a125-11049b98c470",
   "metadata": {},
   "source": [
    "Um die Daten in Python prozessieren zu können, benötigen wir einige standard Python Bibliotheken, die in der folgenden Zelle importiert werden."
   ]
  },
  {
   "cell_type": "code",
   "execution_count": null,
   "id": "7c425cb5-4ec4-4335-b409-6125ecf09a1b",
   "metadata": {},
   "outputs": [],
   "source": [
    "import rasterio\n",
    "import glob\n",
    "import numpy as np\n",
    "import rasterio\n",
    "import matplotlib.pyplot as plt\n",
    "from rasterio import plot\n",
    "from osgeo import osr\n",
    "import os\n",
    "#somit werden alle Plots im Notebook auf diese Größe definiert. \n",
    "plt.rcParams['figure.figsize'] = [12,12]"
   ]
  },
  {
   "cell_type": "markdown",
   "id": "69bc5312-cc34-4f4b-bc0e-45587013e92f",
   "metadata": {},
   "source": [
    "FORCE ist in einem eigenen Daten-System organisiert: in 30 km x 30 km Rasterdatenblöcken. Diese sogenannten \"Tiles\" sind in einer wohldefinierten Proketion: https://epsg.io/3035 abgelegt.\n",
    "Um zu wissen in welchem Tile wir uns befinden benötigen wir eine kleine Funktion, die uns das korrekte Tile ausrechnet (relativ zu einem bekannten Tile: hier X0044_Y0052).\n",
    "\n",
    "Die beiden Variablen in der folgenden Zelle myX und myY rechnen die Dezimalkoordinaten unseres Standortes um und errechnen \"unser\" FORCE Tile.\n",
    "Jahr und Monat müssen ebenfalls angegeben werden. Damit ist das Wo und Wann definiert."
   ]
  },
  {
   "cell_type": "code",
   "execution_count": null,
   "id": "43c0a760-aee0-4756-9915-62336570293a",
   "metadata": {},
   "outputs": [],
   "source": [
    "def reprojectPoint(EPSGin,EPSGout,xCoord,yCoord):\n",
    "  src=osr.SpatialReference()\n",
    "  tgt=osr.SpatialReference()\n",
    "  src.ImportFromEPSG(EPSGin)\n",
    "  tgt.ImportFromEPSG(EPSGout)\n",
    "  transform = osr.CoordinateTransformation(src,tgt)\n",
    "  coords = transform.TransformPoint(xCoord,yCoord)\n",
    "  return coords[0:2]\n",
    "\n",
    "# Koordinaten Stadt Bonn: 7.1022/50.7258; Stadt Essen: 7.0116/51.4556\n",
    "myX = 7.0116\n",
    "myY = 51.4556\n",
    "\n",
    "#hier bitte angeben für welches Jahr und Monat gerechnet werden soll:\n",
    "year='2020'\n",
    "month='07'\n",
    "\n",
    "tileSize = 30000\n",
    "x1,y1=reprojectPoint(4326,3035,2.3852,49.992) # upper let coordinate of X0044 und Y0052\n",
    "x2,y2=reprojectPoint(4326,3035,myX,myY) #Umprojetion von EPSG:4326 nach EPSG:3035\n",
    "\n",
    "deltaX= round((x2-x1) / tileSize)\n",
    "deltaY= round((y2-y1) /tileSize)\n",
    "tileX='X00'+str(44+deltaX)\n",
    "tileY='Y00'+str(52-deltaY)\n",
    "tile=tileX+'_'+tileY"
   ]
  },
  {
   "cell_type": "markdown",
   "id": "01af0663-8fbb-497b-b0b3-b746a0009c85",
   "metadata": {},
   "source": [
    "Nun erfolgt eine Datensuche direkt auf dem Filesystem und alle Sentinel-2 BOA Daten eines bestimmten Monats werden gesucht. \"SEN2\" steht hier für Sentinel-2."
   ]
  },
  {
   "cell_type": "code",
   "execution_count": null,
   "id": "be88f294-1389-465e-9512-c3af6baa7ae6",
   "metadata": {},
   "outputs": [],
   "source": [
    "path='/codede/community/FORCE/C1/L2/ard/'+tile+'/' #Datenpfad der FORCE Kollektion \n",
    "sen2_files = \"*SEN2?_BOA.tif\"\n",
    "globSearch = path+year+month+sen2_files\n",
    "#print(globSearch)\n",
    "files=glob.glob(globSearch)\n",
    "print('Es wurden ' + str(len(files)) + ' Szenen im Tile ' + tile +' gefunden:')\n",
    "print(files)\n"
   ]
  },
  {
   "cell_type": "markdown",
   "id": "ed8e760f-4401-4165-bdeb-2f4647399959",
   "metadata": {},
   "source": [
    "Für die Datenprozessierung benötigen wir eine Wolkenmaske, so dass bewölkte Pixel ignoriert werden können."
   ]
  },
  {
   "cell_type": "code",
   "execution_count": null,
   "id": "f09e4da0-68ad-4775-a597-4632e48e112f",
   "metadata": {},
   "outputs": [],
   "source": [
    "def maskCloud(inFile):\n",
    "  f=inFile.replace('BOA','QAI')\n",
    "  src=rasterio.open(f)\n",
    "  out_meta = src.meta\n",
    "  QA=src.read() << 12\n",
    "  mask = np.where(((QA > 2**12) ),1,0)\n",
    "  \n",
    "  return mask"
   ]
  },
  {
   "cell_type": "markdown",
   "id": "b33e38a1-5167-4f80-99ba-02ab662e1956",
   "metadata": {},
   "source": [
    "Bei Fragen zur Wolkenmaskierung in FORCE könnte dieses Tool hilfreich sein: \n",
    "https://bit-flag-renderer.readthedocs.io/en/latest/index.html\n",
    "\n",
    "Nun kommt der Kern des Programms. Wir iteriern über alle Sentinel-2 Szenen, berechnen jeweils den EVI (oder wahlweise NDVI), maskieren die Wolken und summieren die wolkenfreien Pixel. Am Ende erfolgt die Division durch die Anzahl der wolkenfreien Pixel zur Mittelwertbildung."
   ]
  },
  {
   "cell_type": "code",
   "execution_count": null,
   "id": "c33ce201-0870-48a7-ac0c-a124b35abe81",
   "metadata": {},
   "outputs": [],
   "source": [
    "#öffne ein Band um die Metadaten zu lesen\n",
    "src=rasterio.open(files[0])\n",
    "band8=src.read([8])\n",
    "out_meta = src.meta\n",
    "src.close() # schliesse das Band wieder\n",
    "#wir legen leere numpy arrays der gleichen Dimensionen an\n",
    "vi_sum = np.zeros_like(band8, dtype=np.float32)\n",
    "vi_count = np.zeros_like(band8, dtype=np.uint8)\n",
    "\n",
    "count=0\n",
    "for f in files: # Schleife, die über alle Dateien iteriert.\n",
    "    src=rasterio.open(f)\n",
    "    NIR=src.read([8])/10000.0 # Skalierung in Force: Reflektanz * 10000\n",
    "    RED=src.read([4])/10000.0\n",
    "    BLUE = src.read([2])/10000.0\n",
    "    src.close() \n",
    "    \n",
    "    imgDate=os.path.basename(f)[0:8]         \n",
    "    EVI = 2.5*(NIR-RED)/((NIR+6*RED-7.5*BLUE)+1) \n",
    "    #Alternativ mit NDVI die beiden folgden Zeilen auskommentieren.. \n",
    "    #NDVI = (NIR-RED)/(NIR+RED)\n",
    "    #EVI = NDVI\n",
    "    EVI[(EVI >1) | (EVI < -1)] = np.nan\n",
    "    mask = np.zeros_like(NIR, dtype=np.uint8)\n",
    "    clouds = maskCloud(f) \n",
    "    #nodata value in FORCE=-9999  \n",
    "    mask = np.where((NIR == -9999) | np.isnan(EVI) | (clouds == 1), np.nan, 1)\n",
    "    # Addition des EVI innerhalb der Schleife               \n",
    "    vi_sum += np.where(np.isnan(mask), 0, EVI)\n",
    "    vi_count += np.where(np.isnan(mask), 0, 1).astype(np.uint8)\n",
    "    count += 1\n",
    "    print(\"Processing image: \",count)\n",
    "    src.close()\n",
    "    \n",
    "#Summe dividiert durch Anzahl ergibt den Mittelwert. Hier könnte z.B. der Median hilfreich sein.            \n",
    "vi_average = vi_sum / vi_count"
   ]
  },
  {
   "cell_type": "markdown",
   "id": "c5dac12f-6e33-4fc6-96ca-4db366247bc1",
   "metadata": {},
   "source": [
    "Zur Visualisuertung hier im Notebook nutzen wir eine simple Plot Funktion in pyplot: https://matplotlib.org/stable/tutorials/pyplot.html"
   ]
  },
  {
   "cell_type": "code",
   "execution_count": null,
   "id": "7164372d-6ada-481a-ae7e-81b6cf03465e",
   "metadata": {},
   "outputs": [],
   "source": [
    "# RGB des letzen Bildes in der Liste\n",
    "%matplotlib inline\n",
    "RGB=np.stack([BLUE,NIR,RED],axis=-1).squeeze() \n",
    "RGB[(RGB > 1)] = 1\n",
    "RGB[(RGB < 0)] = 0\n",
    "plt.imshow(RGB)\n",
    "plt.title(imgDate + ' - RGB: BLUE, NIR, RED')"
   ]
  },
  {
   "cell_type": "markdown",
   "id": "d17bfe6a-d16b-42da-bb9f-78bb5707415a",
   "metadata": {},
   "source": [
    "Der gemittelte EVI über einen Monat als gemitteltes Bild-Komposit aller Aufnahmen im Monat."
   ]
  },
  {
   "cell_type": "code",
   "execution_count": null,
   "id": "36952db8-48d7-429f-8cd3-50cf29ae7807",
   "metadata": {},
   "outputs": [],
   "source": [
    "plt.imshow(np.squeeze(vi_average),cmap='jet',vmin=0,vmax=0.8)\n",
    "plt.title('EVI')\n",
    "plt.colorbar()"
   ]
  },
  {
   "cell_type": "markdown",
   "id": "cb063c6d-3252-4e7a-9b99-1a7017a2e9e5",
   "metadata": {},
   "source": [
    "Die Anzahl der \"guten\" Pixel im Bild-Komposit als Resultat der Wolkenmaskierung.\n"
   ]
  },
  {
   "cell_type": "code",
   "execution_count": null,
   "id": "9955cbf9-1388-4661-a36c-da3ce2b5bf77",
   "metadata": {},
   "outputs": [],
   "source": [
    "plt.imshow(np.squeeze(vi_count),cmap='inferno',vmin=0,vmax=count)\n",
    "plt.title('Anzahl verwendeter Pixel')\n",
    "plt.colorbar()"
   ]
  },
  {
   "cell_type": "markdown",
   "id": "4f6287aa-a54b-4526-94de-0cfd672f1d15",
   "metadata": {},
   "source": [
    "EVI und die Anzahl der \"guten\" Pixel werden nun als zwei seperate Dateien in das Verzeichnis /home/eouser/ geschrieben und können z.B. mit QGIS angesehen werden."
   ]
  },
  {
   "cell_type": "code",
   "execution_count": null,
   "id": "d5a98373-1757-4fef-8002-aff4269d35b3",
   "metadata": {},
   "outputs": [],
   "source": [
    "kwargs = out_meta\n",
    "kwargs.update(\n",
    "    dtype=rasterio.float32,count=1,\n",
    "    compress='lzw')\n",
    "with rasterio.open('/home/eouser/'+year+month+'_evi.tif', 'w',**kwargs) as dst:\n",
    "        dst.write(vi_average.astype(rasterio.float32))\n",
    "        \n",
    "#write count image \n",
    "kwargs.update(\n",
    "    dtype=rasterio.uint8,count=1,nodata=255)\n",
    "with rasterio.open('/home/eouser/'+year+month+'_count.tif', 'w',**kwargs) as dst:\n",
    "        dst.write(vi_count.astype(rasterio.uint8))"
   ]
  }
 ],
 "metadata": {
  "kernelspec": {
   "display_name": "Python 3 (ipykernel)",
   "language": "python",
   "name": "python3"
  },
  "language_info": {
   "codemirror_mode": {
    "name": "ipython",
    "version": 3
   },
   "file_extension": ".py",
   "mimetype": "text/x-python",
   "name": "python",
   "nbconvert_exporter": "python",
   "pygments_lexer": "ipython3",
   "version": "3.10.10"
  }
 },
 "nbformat": 4,
 "nbformat_minor": 5
}
